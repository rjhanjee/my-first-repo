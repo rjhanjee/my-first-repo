{
  "nbformat": 4,
  "nbformat_minor": 0,
  "metadata": {
    "colab": {
      "provenance": [],
      "authorship_tag": "ABX9TyP+7W15ispLhTkz9FN2/cqF",
      "include_colab_link": true
    },
    "kernelspec": {
      "name": "python3",
      "display_name": "Python 3"
    },
    "language_info": {
      "name": "python"
    }
  },
  "cells": [
    {
      "cell_type": "markdown",
      "metadata": {
        "id": "view-in-github",
        "colab_type": "text"
      },
      "source": [
        "<a href=\"https://colab.research.google.com/github/rjhanjee/my-first-repo/blob/main/hw2.ipynb\" target=\"_parent\"><img src=\"https://colab.research.google.com/assets/colab-badge.svg\" alt=\"Open In Colab\"/></a>"
      ]
    },
    {
      "cell_type": "code",
      "execution_count": 38,
      "metadata": {
        "colab": {
          "base_uri": "https://localhost:8080/"
        },
        "id": "hQ1QN3FAnkao",
        "outputId": "84d678d4-31a4-4f9b-ca7e-db9f6a4b39f7"
      },
      "outputs": [
        {
          "output_type": "stream",
          "name": "stdout",
          "text": [
            "This sorting hat will attempt to put you in Slytherin or Gryffindor house, if you meet the criteria\n",
            "are you brave in heart (Y/N)? > N\n",
            "are you cunning in heart (Y/N)? > Y\n",
            "you belong to neiher of the two houses\n"
          ]
        }
      ],
      "source": [
        "def sorting_hat(ask1,ask2):\n",
        "  return ask1,ask2\n",
        "print(\"This sorting hat will attempt to put you in Slytherin or Gryffindor house, if you meet the criteria\")\n",
        "ask1 = input(\"are you brave in heart (Y/N)? > \")\n",
        "ask2 = input(\"are you cunning in heart (Y/N)? > \")\n",
        "if ask1 == 'Y' and ask2 =='N':\n",
        "  print(\"You belong to Gryffindor!\")\n",
        "elif ask1 == 'no' and ask2 =='yes':\n",
        "  print(\" You belong to Slytherin\")\n",
        "else:\n",
        "  print(\"you belong to neiher of the two houses\")\n",
        "\n",
        "\n"
      ]
    },
    {
      "cell_type": "code",
      "source": [
        "class mydata:\n",
        "    def __init__(self, list_num):\n",
        "         self.list_num = list_num\n",
        "\n",
        "    def list_of_numbers(self):\n",
        "\n",
        "        return self.list_num\n",
        "\n",
        "    def calculate_mean(self):\n",
        "        return sum(self.list_num)/len(self.list_num)\n",
        "\n",
        "    def calculate_standard_deviation(self):\n",
        "        mean = self.calculate_mean()\n",
        "        variance = sum([(x - mean) ** 2 for x in self.list_num]) / len(self.list_num)\n",
        "        return variance ** 0.5\n",
        "\n",
        "\n",
        "x= mydata([1, 2, 7, 5])\n",
        "print(x.list_of_numbers())\n",
        "print(x.calculate_mean())\n",
        "print(x.calculate_standard_deviation())\n",
        "\n",
        "\n",
        "\n",
        "\n",
        "\n"
      ],
      "metadata": {
        "colab": {
          "base_uri": "https://localhost:8080/"
        },
        "id": "OcdA7CjIURMy",
        "outputId": "0d52a18b-2d00-45a7-cf2e-e1c613ce75c8"
      },
      "execution_count": 39,
      "outputs": [
        {
          "output_type": "stream",
          "name": "stdout",
          "text": [
            "[1, 2, 7, 5]\n",
            "3.75\n",
            "2.384848003542364\n"
          ]
        }
      ]
    },
    {
      "cell_type": "code",
      "source": [
        "import numpy as np\n",
        "\n",
        "user_input = input(\"Enter numbers separated by spaces (e.g., 1 2 3 4): \")\n",
        "convert_to_strings = user_input.split()\n",
        "numbers_list = [float(num_str) for num_str in convert_to_strings] # Use int() for integers\n",
        "\n",
        "user_input_lag = input(\"By how many places do you want to lag (enter a integer number > 0)? \")\n",
        "\n",
        "numpy_array = np.array(numbers_list)\n",
        "print (\"my list of numbers is: \", numpy_array)\n",
        "print (\"My lag amount is \", user_input_lag)\n",
        "def lag (numpy_array, user_input_lag):\n",
        "  for i in range(user_input_lag):\n",
        "      numpy_array[i]=np.nan\n",
        "      print(i)\n",
        "  return numpy_array\n",
        "print(lag(numpy_array,user_input_lag))\n",
        "\n",
        "#print(lag(numpy_array, user_input_lag))\n",
        "   # for i in range(user_input_lag, len(numpy_array)):\n",
        "       # print(i)\n",
        "        #numpy_array[i]= np.roll(numpy_array, int(user_input_lag))\n",
        "\n",
        "\n",
        "\n",
        ""
      ],
      "metadata": {
        "colab": {
          "base_uri": "https://localhost:8080/",
          "height": 412
        },
        "id": "hO_8d1UFfIy4",
        "outputId": "a9025eb1-15ed-421f-d297-9b8103016884"
      },
      "execution_count": 65,
      "outputs": [
        {
          "output_type": "stream",
          "name": "stdout",
          "text": [
            "Enter numbers separated by spaces (e.g., 1 2 3 4): 1 2 3 4\n",
            "By how many places do you want to lag (enter a integer number > 0)? 2\n",
            "my list of numbers is:  [1. 2. 3. 4.]\n",
            "My lag amount is  2\n"
          ]
        },
        {
          "output_type": "error",
          "ename": "TypeError",
          "evalue": "'str' object cannot be interpreted as an integer",
          "traceback": [
            "\u001b[0;31m---------------------------------------------------------------------------\u001b[0m",
            "\u001b[0;31mTypeError\u001b[0m                                 Traceback (most recent call last)",
            "\u001b[0;32m/tmp/ipython-input-3078500451.py\u001b[0m in \u001b[0;36m<cell line: 0>\u001b[0;34m()\u001b[0m\n\u001b[1;32m     15\u001b[0m       \u001b[0mprint\u001b[0m\u001b[0;34m(\u001b[0m\u001b[0mi\u001b[0m\u001b[0;34m)\u001b[0m\u001b[0;34m\u001b[0m\u001b[0;34m\u001b[0m\u001b[0m\n\u001b[1;32m     16\u001b[0m   \u001b[0;32mreturn\u001b[0m \u001b[0mnumpy_array\u001b[0m\u001b[0;34m\u001b[0m\u001b[0;34m\u001b[0m\u001b[0m\n\u001b[0;32m---> 17\u001b[0;31m \u001b[0mprint\u001b[0m\u001b[0;34m(\u001b[0m\u001b[0mlag\u001b[0m\u001b[0;34m(\u001b[0m\u001b[0mnumpy_array\u001b[0m\u001b[0;34m,\u001b[0m\u001b[0muser_input_lag\u001b[0m\u001b[0;34m)\u001b[0m\u001b[0;34m)\u001b[0m\u001b[0;34m\u001b[0m\u001b[0;34m\u001b[0m\u001b[0m\n\u001b[0m\u001b[1;32m     18\u001b[0m \u001b[0;34m\u001b[0m\u001b[0m\n\u001b[1;32m     19\u001b[0m \u001b[0;31m#print(lag(numpy_array, user_input_lag))\u001b[0m\u001b[0;34m\u001b[0m\u001b[0;34m\u001b[0m\u001b[0m\n",
            "\u001b[0;32m/tmp/ipython-input-3078500451.py\u001b[0m in \u001b[0;36mlag\u001b[0;34m(numpy_array, user_input_lag)\u001b[0m\n\u001b[1;32m     11\u001b[0m \u001b[0mprint\u001b[0m \u001b[0;34m(\u001b[0m\u001b[0;34m\"My lag amount is \"\u001b[0m\u001b[0;34m,\u001b[0m \u001b[0muser_input_lag\u001b[0m\u001b[0;34m)\u001b[0m\u001b[0;34m\u001b[0m\u001b[0;34m\u001b[0m\u001b[0m\n\u001b[1;32m     12\u001b[0m \u001b[0;32mdef\u001b[0m \u001b[0mlag\u001b[0m \u001b[0;34m(\u001b[0m\u001b[0mnumpy_array\u001b[0m\u001b[0;34m,\u001b[0m \u001b[0muser_input_lag\u001b[0m\u001b[0;34m)\u001b[0m\u001b[0;34m:\u001b[0m\u001b[0;34m\u001b[0m\u001b[0;34m\u001b[0m\u001b[0m\n\u001b[0;32m---> 13\u001b[0;31m   \u001b[0;32mfor\u001b[0m \u001b[0mi\u001b[0m \u001b[0;32min\u001b[0m \u001b[0mrange\u001b[0m\u001b[0;34m(\u001b[0m\u001b[0muser_input_lag\u001b[0m\u001b[0;34m)\u001b[0m\u001b[0;34m:\u001b[0m\u001b[0;34m\u001b[0m\u001b[0;34m\u001b[0m\u001b[0m\n\u001b[0m\u001b[1;32m     14\u001b[0m       \u001b[0mnumpy_array\u001b[0m\u001b[0;34m[\u001b[0m\u001b[0mi\u001b[0m\u001b[0;34m]\u001b[0m\u001b[0;34m=\u001b[0m\u001b[0mnp\u001b[0m\u001b[0;34m.\u001b[0m\u001b[0mnan\u001b[0m\u001b[0;34m\u001b[0m\u001b[0;34m\u001b[0m\u001b[0m\n\u001b[1;32m     15\u001b[0m       \u001b[0mprint\u001b[0m\u001b[0;34m(\u001b[0m\u001b[0mi\u001b[0m\u001b[0;34m)\u001b[0m\u001b[0;34m\u001b[0m\u001b[0;34m\u001b[0m\u001b[0m\n",
            "\u001b[0;31mTypeError\u001b[0m: 'str' object cannot be interpreted as an integer"
          ]
        }
      ]
    }
  ]
}