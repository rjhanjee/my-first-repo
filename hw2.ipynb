{
  "nbformat": 4,
  "nbformat_minor": 0,
  "metadata": {
    "colab": {
      "provenance": [],
      "authorship_tag": "ABX9TyPDu6HdmkE0GPzfKCmze/YG",
      "include_colab_link": true
    },
    "kernelspec": {
      "name": "python3",
      "display_name": "Python 3"
    },
    "language_info": {
      "name": "python"
    }
  },
  "cells": [
    {
      "cell_type": "markdown",
      "metadata": {
        "id": "view-in-github",
        "colab_type": "text"
      },
      "source": [
        "<a href=\"https://colab.research.google.com/github/rjhanjee/my-first-repo/blob/main/hw2.ipynb\" target=\"_parent\"><img src=\"https://colab.research.google.com/assets/colab-badge.svg\" alt=\"Open In Colab\"/></a>"
      ]
    },
    {
      "cell_type": "code",
      "execution_count": 38,
      "metadata": {
        "colab": {
          "base_uri": "https://localhost:8080/"
        },
        "id": "hQ1QN3FAnkao",
        "outputId": "84d678d4-31a4-4f9b-ca7e-db9f6a4b39f7"
      },
      "outputs": [
        {
          "output_type": "stream",
          "name": "stdout",
          "text": [
            "This sorting hat will attempt to put you in Slytherin or Gryffindor house, if you meet the criteria\n",
            "are you brave in heart (Y/N)? > N\n",
            "are you cunning in heart (Y/N)? > Y\n",
            "you belong to neiher of the two houses\n"
          ]
        }
      ],
      "source": [
        "# Assignment 2, question 1\n",
        "\n",
        "def sorting_hat(ask1,ask2):\n",
        "  return ask1,ask2\n",
        "print(\"This sorting hat will attempt to put you in Slytherin or Gryffindor house, if you meet the criteria\")\n",
        "ask1 = input(\"are you brave in heart (Y/N)? > \")\n",
        "ask2 = input(\"are you cunning in heart (Y/N)? > \")\n",
        "if ask1 == 'Y' and ask2 =='N':\n",
        "  print(\"You belong to Gryffindor!\")\n",
        "elif ask1 == 'no' and ask2 =='yes':\n",
        "  print(\" You belong to Slytherin\")\n",
        "else:\n",
        "  print(\"you belong to neiher of the two houses\")\n",
        "\n",
        "\n"
      ]
    },
    {
      "cell_type": "code",
      "source": [
        "# Assignment 2, question 2\n",
        "\n",
        "class mydata:\n",
        "    def __init__(self, list_num):\n",
        "         self.list_num = list_num\n",
        "\n",
        "    def list_of_numbers(self):\n",
        "\n",
        "        return self.list_num\n",
        "\n",
        "    def calculate_mean(self):\n",
        "        return sum(self.list_num)/len(self.list_num)\n",
        "\n",
        "    def calculate_standard_deviation(self):\n",
        "        mean = self.calculate_mean()\n",
        "        variance = sum([(x - mean) ** 2 for x in self.list_num]) / len(self.list_num)\n",
        "        return variance ** 0.5\n",
        "\n",
        "\n",
        "x= mydata([1, 2, 7, 5])\n",
        "print(\" This is the list of numbers \", x.list_of_numbers())\n",
        "print(\"This is the mean: \",x.calculate_mean())\n",
        "print(\"This is the standard deviation: \",x.calculate_standard_deviation())\n",
        "\n",
        "\n",
        "\n",
        "\n",
        "\n"
      ],
      "metadata": {
        "colab": {
          "base_uri": "https://localhost:8080/"
        },
        "id": "OcdA7CjIURMy",
        "outputId": "58026589-4b34-43a0-cb1f-650474d7b0ad"
      },
      "execution_count": 69,
      "outputs": [
        {
          "output_type": "stream",
          "name": "stdout",
          "text": [
            " This is the list of numbers  [1, 2, 7, 5]\n",
            "This is the mean:  3.75\n",
            "This is the standard deviation:  2.384848003542364\n"
          ]
        }
      ]
    },
    {
      "cell_type": "code",
      "source": [
        "# Assignment 2, question 3\n",
        "\n",
        "import numpy as np\n",
        "\n",
        "def lag(a,x):\n",
        "\n",
        "  # Split the input string by spaces and convert to a list of strings\n",
        "  if isinstance(a, str): # Check if the input is a string\n",
        "    a = a.split()\n",
        "  a = np.array(a)\n",
        "  a = a.astype(float)\n",
        "  if not isinstance(x, int) or x <= 0:\n",
        "        raise ValueError(\"Lag value 'n' must be a positive integer.\")\n",
        "\n",
        "  nan_array = np.full(x, np.nan, dtype=a.dtype)\n",
        "  lagged_array = np.concatenate((nan_array, a[:-x]))\n",
        "  return(lagged_array)\n",
        "\n",
        "a=input(\"enter a list of numbers \")\n",
        "x=int(input(\"enter a lag value \"))\n",
        "\n",
        "print(lag (a,x))\n"
      ],
      "metadata": {
        "colab": {
          "base_uri": "https://localhost:8080/"
        },
        "id": "hO_8d1UFfIy4",
        "outputId": "6404f492-8d95-4bb0-bcda-304f92297ac7"
      },
      "execution_count": 65,
      "outputs": [
        {
          "output_type": "stream",
          "name": "stdout",
          "text": [
            "enter a list of numbers 2 3 4 5\n",
            "enter a lag value 2\n",
            "[nan nan  2.  3.]\n"
          ]
        }
      ]
    },
    {
      "cell_type": "code",
      "source": [
        "# Assignment 2, question 4\n",
        "\n",
        "def lagGenerator(n):\n",
        "  return lambda a: lag(a,n)\n",
        "\n",
        "\n",
        "vector = \"1 6 8 4\" # Example data as a string\n",
        "lag_2 = lagGenerator(2)\n",
        "\n",
        "# Use the newly created function on the data\n",
        "lagged_data = lag_2(vector)\n",
        "\n",
        "\n",
        "print(\"Original vector:\", vector)\n",
        "print(\"Lagged by 2:\", lagged_data)"
      ],
      "metadata": {
        "colab": {
          "base_uri": "https://localhost:8080/"
        },
        "id": "hFBpAbGM6tZy",
        "outputId": "2269d31b-4897-4791-8de4-7fddced213aa"
      },
      "execution_count": 70,
      "outputs": [
        {
          "output_type": "stream",
          "name": "stdout",
          "text": [
            "Original vector: 1 6 8 4\n",
            "Lagged by 2: [nan nan  1.  6.]\n"
          ]
        }
      ]
    }
  ]
}