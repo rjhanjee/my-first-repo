{
  "nbformat": 4,
  "nbformat_minor": 0,
  "metadata": {
    "colab": {
      "provenance": [],
      "authorship_tag": "ABX9TyOEP0tkr+OC3XKbYaxGs5Mx",
      "include_colab_link": true
    },
    "kernelspec": {
      "name": "python3",
      "display_name": "Python 3"
    },
    "language_info": {
      "name": "python"
    }
  },
  "cells": [
    {
      "cell_type": "markdown",
      "metadata": {
        "id": "view-in-github",
        "colab_type": "text"
      },
      "source": [
        "<a href=\"https://colab.research.google.com/github/rjhanjee/my-first-repo/blob/main/hw2.ipynb\" target=\"_parent\"><img src=\"https://colab.research.google.com/assets/colab-badge.svg\" alt=\"Open In Colab\"/></a>"
      ]
    },
    {
      "cell_type": "code",
      "execution_count": 10,
      "metadata": {
        "colab": {
          "base_uri": "https://localhost:8080/"
        },
        "id": "hQ1QN3FAnkao",
        "outputId": "429e92d6-2e01-42b3-ab40-490daabe5a43"
      },
      "outputs": [
        {
          "output_type": "stream",
          "name": "stdout",
          "text": [
            "This sorting hat will attempt to put you in Slytherin or Gryffindor house, if you meet the criteria\n",
            "are you brave in heart (Y/N)? > 1 2 3 4\n",
            "are you cunning in heart (Y/N)? > n\n",
            "you are neither brave nor cunning\n",
            "you belong to Slytherin!\n"
          ]
        }
      ],
      "source": [
        "# Assignment 2, question 1\n",
        "\n",
        "def sorting_hat(ask1,ask2):\n",
        "  return ask1,ask2\n",
        "print(\"This sorting hat will attempt to put you in Slytherin or Gryffindor house, if you meet the criteria\")\n",
        "ask1 = input(\"are you brave in heart (Y/N)? > \")\n",
        "ask2 = input(\"are you cunning in heart (Y/N)? > \")\n",
        "if ask1 == 'Y' and ask2 =='N':\n",
        "  print(\"You are brave in heart\")\n",
        "  print(\"You belong to Gryffindor!\")\n",
        "elif ask1 == 'N' and ask2 =='Y':\n",
        "  print(\"You are cunning in heart\")\n",
        "  print(\" You belong to Slytherin!\")\n",
        "elif ask1 == 'Y' and ask2 =='Y':\n",
        "  print(\"you are both brave and cunning\")\n",
        "  print(\"you belong to Gryffindor!\")\n",
        "else:\n",
        "  print(\"you are neither brave nor cunning\")\n",
        "  print(\"you belong to Slytherin!\")\n",
        "\n",
        "\n"
      ]
    },
    {
      "cell_type": "code",
      "source": [
        "# Assignment 2, question 2\n",
        "\n",
        "class mydata:\n",
        "    def __init__(self, list_num):\n",
        "         self.list_num = list_num\n",
        "\n",
        "    def list_of_numbers(self):\n",
        "\n",
        "        return self.list_num\n",
        "\n",
        "    def calculate_mean(self):\n",
        "        return sum(self.list_num)/len(self.list_num)\n",
        "\n",
        "    def calculate_standard_deviation(self):\n",
        "        mean = self.calculate_mean()\n",
        "        variance = sum([(x - mean) ** 2 for x in self.list_num]) / (len(self.list_num)-1)\n",
        "        return variance ** 0.5\n",
        "\n",
        "\n",
        "x= mydata([1, 2, 7, 5])\n",
        "print(\" This is the list of numbers \", x.list_of_numbers())\n",
        "print(\"This is the mean: \",x.calculate_mean())\n",
        "print(\"This is the standard deviation: \",x.calculate_standard_deviation())\n",
        "\n",
        "\n",
        "\n",
        "\n"
      ],
      "metadata": {
        "colab": {
          "base_uri": "https://localhost:8080/"
        },
        "id": "OcdA7CjIURMy",
        "outputId": "c35ce625-776b-4da1-a7b1-7cee37683831"
      },
      "execution_count": 11,
      "outputs": [
        {
          "output_type": "stream",
          "name": "stdout",
          "text": [
            " This is the list of numbers  [1, 2, 7, 5]\n",
            "This is the mean:  3.75\n",
            "This is the standard deviation:  2.753785273643051\n"
          ]
        }
      ]
    },
    {
      "cell_type": "code",
      "source": [
        "# Assignment 2, question 3\n",
        "\n",
        "import numpy as np\n",
        "\n",
        "def lag(a,x):\n",
        "\n",
        "  # Split the input string by spaces and convert to a list of strings\n",
        "  if isinstance(a, str): # Check if the input is a string\n",
        "    a = a.split()\n",
        "\n",
        "    # convert the input into numpy array and change the datatype to float\n",
        "\n",
        "  a = np.array(a)\n",
        "  a = a.astype(float)\n",
        "\n",
        "  # make sure that lag value x is an interger, otherwise, giva a error message\n",
        "\n",
        "  if not isinstance(x, int) or x <= 0:\n",
        "        raise ValueError(\"Lag value 'n' must be a positive integer.\")\n",
        "\n",
        "        # make an array of same size as lag amount that contains nan\n",
        "\n",
        "  nan_array = np.full(x, np.nan, dtype=a.dtype)\n",
        "\n",
        "  lagged_array = np.concatenate((nan_array, a[:-x]))\n",
        "  return(lagged_array)\n",
        "\n",
        "a=input(\"enter a list of numbers \")\n",
        "x=int(input(\"enter a lag value \"))\n",
        "print(\"Original vector is: \", a)\n",
        "print(\"Lag value is: \", x)\n",
        "print(\"Lagged vector is: \", lag (a,x))\n",
        "\n"
      ],
      "metadata": {
        "colab": {
          "base_uri": "https://localhost:8080/"
        },
        "id": "hO_8d1UFfIy4",
        "outputId": "05a45a15-7e29-4aef-9a25-51c0cb8c060c"
      },
      "execution_count": 14,
      "outputs": [
        {
          "output_type": "stream",
          "name": "stdout",
          "text": [
            "enter a list of numbers 1 2 3 4\n",
            "enter a lag value 2\n",
            "Original vector is:  1 2 3 4\n",
            "Lag value is:  2\n",
            "Lagged vector is:  [nan nan  1.  2.]\n"
          ]
        }
      ]
    },
    {
      "cell_type": "code",
      "source": [
        "# Assignment 2, question 4\n",
        "\n",
        "def lagGenerator(n):\n",
        "  return lambda a: lag(a,n)\n",
        "\n",
        "\n",
        "vector = \"1 6 8 4\" # Example data as a string\n",
        "lag_2 = lagGenerator(2)\n",
        "\n",
        "# Use the newly created function on the data\n",
        "lagged_data = lag_2(vector)\n",
        "\n",
        "\n",
        "print(\"Original vector:\", vector)\n",
        "print(\"Lagged by 2:\", lagged_data)"
      ],
      "metadata": {
        "id": "hFBpAbGM6tZy"
      },
      "execution_count": null,
      "outputs": []
    }
  ]
}