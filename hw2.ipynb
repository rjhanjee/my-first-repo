{
  "nbformat": 4,
  "nbformat_minor": 0,
  "metadata": {
    "colab": {
      "provenance": [],
      "authorship_tag": "ABX9TyNbI/kjk0XZxvC+QEXL09uY",
      "include_colab_link": true
    },
    "kernelspec": {
      "name": "python3",
      "display_name": "Python 3"
    },
    "language_info": {
      "name": "python"
    }
  },
  "cells": [
    {
      "cell_type": "markdown",
      "metadata": {
        "id": "view-in-github",
        "colab_type": "text"
      },
      "source": [
        "<a href=\"https://colab.research.google.com/github/rjhanjee/my-first-repo/blob/main/hw2.ipynb\" target=\"_parent\"><img src=\"https://colab.research.google.com/assets/colab-badge.svg\" alt=\"Open In Colab\"/></a>"
      ]
    },
    {
      "cell_type": "code",
      "execution_count": 38,
      "metadata": {
        "colab": {
          "base_uri": "https://localhost:8080/"
        },
        "id": "hQ1QN3FAnkao",
        "outputId": "84d678d4-31a4-4f9b-ca7e-db9f6a4b39f7"
      },
      "outputs": [
        {
          "output_type": "stream",
          "name": "stdout",
          "text": [
            "This sorting hat will attempt to put you in Slytherin or Gryffindor house, if you meet the criteria\n",
            "are you brave in heart (Y/N)? > N\n",
            "are you cunning in heart (Y/N)? > Y\n",
            "you belong to neiher of the two houses\n"
          ]
        }
      ],
      "source": [
        "def sorting_hat(ask1,ask2):\n",
        "  return ask1,ask2\n",
        "print(\"This sorting hat will attempt to put you in Slytherin or Gryffindor house, if you meet the criteria\")\n",
        "ask1 = input(\"are you brave in heart (Y/N)? > \")\n",
        "ask2 = input(\"are you cunning in heart (Y/N)? > \")\n",
        "if ask1 == 'Y' and ask2 =='N':\n",
        "  print(\"You belong to Gryffindor!\")\n",
        "elif ask1 == 'no' and ask2 =='yes':\n",
        "  print(\" You belong to Slytherin\")\n",
        "else:\n",
        "  print(\"you belong to neiher of the two houses\")\n",
        "\n",
        "\n"
      ]
    },
    {
      "cell_type": "code",
      "source": [
        "class mydata:\n",
        "    def __init__(self, list_num):\n",
        "         self.list_num = list_num\n",
        "\n",
        "    def list_of_numbers(self):\n",
        "\n",
        "        return self.list_num\n",
        "\n",
        "    def calculate_mean(self):\n",
        "        return sum(self.list_num)/len(self.list_num)\n",
        "\n",
        "    def calculate_standard_deviation(self):\n",
        "        mean = self.calculate_mean()\n",
        "        variance = sum([(x - mean) ** 2 for x in self.list_num]) / len(self.list_num)\n",
        "        return variance ** 0.5\n",
        "\n",
        "\n",
        "x= mydata([1, 2, 7, 5])\n",
        "print(x.list_of_numbers())\n",
        "print(x.calculate_mean())\n",
        "print(x.calculate_standard_deviation())\n",
        "\n",
        "\n",
        "\n",
        "\n",
        "\n"
      ],
      "metadata": {
        "colab": {
          "base_uri": "https://localhost:8080/"
        },
        "id": "OcdA7CjIURMy",
        "outputId": "0d52a18b-2d00-45a7-cf2e-e1c613ce75c8"
      },
      "execution_count": 39,
      "outputs": [
        {
          "output_type": "stream",
          "name": "stdout",
          "text": [
            "[1, 2, 7, 5]\n",
            "3.75\n",
            "2.384848003542364\n"
          ]
        }
      ]
    },
    {
      "cell_type": "code",
      "source": [],
      "metadata": {
        "id": "hO_8d1UFfIy4"
      },
      "execution_count": null,
      "outputs": []
    }
  ]
}