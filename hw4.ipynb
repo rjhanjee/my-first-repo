{
  "nbformat": 4,
  "nbformat_minor": 0,
  "metadata": {
    "colab": {
      "provenance": [],
      "authorship_tag": "ABX9TyNLqnog99+SxUsCr5yKFgAn",
      "include_colab_link": true
    },
    "kernelspec": {
      "name": "python3",
      "display_name": "Python 3"
    },
    "language_info": {
      "name": "python"
    }
  },
  "cells": [
    {
      "cell_type": "markdown",
      "metadata": {
        "id": "view-in-github",
        "colab_type": "text"
      },
      "source": [
        "<a href=\"https://colab.research.google.com/github/rjhanjee/my-first-repo/blob/main/hw4.ipynb\" target=\"_parent\"><img src=\"https://colab.research.google.com/assets/colab-badge.svg\" alt=\"Open In Colab\"/></a>"
      ]
    },
    {
      "cell_type": "code",
      "execution_count": 37,
      "metadata": {
        "colab": {
          "base_uri": "https://localhost:8080/"
        },
        "id": "ChRq-cYo3OgP",
        "outputId": "ff9e6057-7493-45c7-a12a-5149cdee851d"
      },
      "outputs": [
        {
          "output_type": "stream",
          "name": "stdout",
          "text": [
            "  BUYER_COUNTY BUYER_STATE STATE COUNTY  year population\n",
            "0      AUTAUGA          AL     1      1  2006      51328\n",
            "1      BALDWIN          AL     1      3  2006     168121\n",
            "2      BARBOUR          AL     1      5  2006      27861\n",
            "3         BIBB          AL     1      7  2006      22099\n",
            "4       BLOUNT          AL     1      9  2006      55485\n"
          ]
        }
      ],
      "source": [
        "import sqlite3 as sq3\n",
        "import pandas as pd\n",
        "\n",
        "# I imported the county_pop_arcos.csv, land_area.csv and county_annual.csv files into opioid.db file\n",
        "# in sqlite on my desktop as shown by using same steps as shown in the book\n",
        "\n",
        "## Create the connection\n",
        "con = sq3.connect(\"opioid.db\")\n",
        "\n",
        "population = pd.read_sql_query(\"SELECT * FROM population\", con) # data from county_pop_arcos.csv\n",
        "annual = pd.read_sql_query(\"SELECT * FROM annual\", con) # data from county_annual.csv\n",
        "land = pd.read_sql_query(\"SELECT * FROM land\", con) # data from land_area.csv\n",
        "\n",
        "# you have to close the connection\n",
        "con.close()\n",
        "\n",
        "print(population[['BUYER_COUNTY', 'BUYER_STATE','STATE','COUNTY','year','population']].head())\n",
        "\n",
        "# population\n",
        "# select BUYER_COUNTY, BUYER_STATE, STATE, COUNTY, year, population from population limit\n",
        "\n",
        "\n",
        "# print(\" population data sample \")\n",
        "# print(\"- \" *30)\n",
        "# print(population.iloc[:4, :4])\n",
        "# print(\"- \" *30)\n",
        "\n",
        "# print(\" annual data sample \")\n",
        "# print(\"- \" *30)\n",
        "# print(annual.iloc[:4, :4])\n",
        "# print(\"- \" *30)\n",
        "\n",
        "# print(\" land data sample \")\n",
        "# print(\"- \" *30)\n",
        "# print(land.iloc[:4, :4])\n",
        "# print(\"- \" *30)"
      ]
    }
  ]
}