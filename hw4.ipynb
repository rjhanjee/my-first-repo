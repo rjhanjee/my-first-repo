{
  "nbformat": 4,
  "nbformat_minor": 0,
  "metadata": {
    "colab": {
      "provenance": [],
      "authorship_tag": "ABX9TyO6mUy+QdxP3uO+MPO4HhnV",
      "include_colab_link": true
    },
    "kernelspec": {
      "name": "python3",
      "display_name": "Python 3"
    },
    "language_info": {
      "name": "python"
    }
  },
  "cells": [
    {
      "cell_type": "markdown",
      "metadata": {
        "id": "view-in-github",
        "colab_type": "text"
      },
      "source": [
        "<a href=\"https://colab.research.google.com/github/rjhanjee/my-first-repo/blob/main/hw4.ipynb\" target=\"_parent\"><img src=\"https://colab.research.google.com/assets/colab-badge.svg\" alt=\"Open In Colab\"/></a>"
      ]
    },
    {
      "cell_type": "code",
      "execution_count": 22,
      "metadata": {
        "colab": {
          "base_uri": "https://localhost:8080/"
        },
        "id": "ChRq-cYo3OgP",
        "outputId": "51fd4da0-f64c-47a7-ed64-232e1a7c0bbe"
      },
      "outputs": [
        {
          "output_type": "stream",
          "name": "stdout",
          "text": [
            "     BUYER_COUNTY BUYER_STATE countyfips STATE COUNTY county_name  \\\n",
            "0  1      AUTAUGA          AL      01001     1      1     Autauga   \n",
            "1  2      BALDWIN          AL      01003     1      3     Baldwin   \n",
            "2  3      BARBOUR          AL      01005     1      5     Barbour   \n",
            "3  4         BIBB          AL      01007     1      7        Bibb   \n",
            "4  5       BLOUNT          AL      01009     1      9      Blount   \n",
            "\n",
            "                      NAME    variable  year population  \n",
            "0  Autauga County, Alabama  B01003_001  2006      51328  \n",
            "1  Baldwin County, Alabama  B01003_001  2006     168121  \n",
            "2  Barbour County, Alabama  B01003_001  2006      27861  \n",
            "3     Bibb County, Alabama  B01003_001  2006      22099  \n",
            "4   Blount County, Alabama  B01003_001  2006      55485  \n"
          ]
        }
      ],
      "source": [
        "import sqlite3 as sq3\n",
        "import pandas as pd\n",
        "\n",
        "# I imported the county_pop_arcos.csv, land_area.csv and county_annual.csv files into opioid.db file\n",
        "# in sqlite on my desktop as shown by using same steps as shown in the book\n",
        "\n",
        "## Create the connection\n",
        "con = sq3.connect(\"opioid.db\")\n",
        "\n",
        "population = pd.read_sql_query(\"SELECT * FROM population\", con) # data from county_pop_arcos.csv\n",
        "annual = pd.read_sql_query(\"SELECT * FROM annual\", con) # data from county_annual.csv\n",
        "land = pd.read_sql_query(\"SELECT * FROM land\", con) # data from land_area.csv\n",
        "\n",
        "# you have to close the connection\n",
        "con.close()\n",
        "print(population.head())"
      ]
    }
  ]
}