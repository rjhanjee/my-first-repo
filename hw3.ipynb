{
  "nbformat": 4,
  "nbformat_minor": 0,
  "metadata": {
    "colab": {
      "provenance": [],
      "authorship_tag": "ABX9TyNsLkFIpwZezjN34gVzSPy6",
      "include_colab_link": true
    },
    "kernelspec": {
      "name": "python3",
      "display_name": "Python 3"
    },
    "language_info": {
      "name": "python"
    }
  },
  "cells": [
    {
      "cell_type": "markdown",
      "metadata": {
        "id": "view-in-github",
        "colab_type": "text"
      },
      "source": [
        "<a href=\"https://colab.research.google.com/github/rjhanjee/my-first-repo/blob/main/hw3.ipynb\" target=\"_parent\"><img src=\"https://colab.research.google.com/assets/colab-badge.svg\" alt=\"Open In Colab\"/></a>"
      ]
    },
    {
      "cell_type": "code",
      "execution_count": 60,
      "metadata": {
        "colab": {
          "base_uri": "https://localhost:8080/"
        },
        "id": "iCPM3iaPdGm8",
        "outputId": "4225f9a1-68d5-423a-d051-35987093bb8f"
      },
      "outputs": [
        {
          "output_type": "stream",
          "name": "stdout",
          "text": [
            "telencephalon_L_volume is  467063\n",
            "telencephalon_R_volume is  470488\n",
            "Total_telencephalon_volume is  937551\n",
            "tbv is  1123076\n",
            "icv is  1195015\n",
            "icv_fraction is  1.2746133277016396\n",
            "tbv_fraction is  1.1978825685216057\n"
          ]
        }
      ],
      "source": [
        "import pandas as pd\n",
        "url = \"https://raw.githubusercontent.com/smart-stats/ds4bio_book/main/book/assetts/kirby21AllLevels.csv\"\n",
        "kirb21_df = pd.read_csv(url)\n",
        "\n",
        "kirby906a_ax_df = kirb21_df[kirb21_df['rawid'] == 'kirby906a_ax.img']\n",
        "\n",
        "kirby906a_ax_df.head()\n",
        "telencephalon_L_volume = kirby906a_ax_df['volume'][kirby906a_ax_df['roi'] == 'Telencephalon_L'].item()\n",
        "# adding .item() at the end converts this into a number\n",
        "print(\"telencephalon_L_volume is \",telencephalon_L_volume)\n",
        "\n",
        "telencephalon_R_volume = kirby906a_ax_df['volume'][kirby906a_ax_df['roi'] == 'Telencephalon_R'].item()\n",
        "print(\"telencephalon_R_volume is \",telencephalon_R_volume)\n",
        "Total_telencephalon_volume=telencephalon_R_volume + telencephalon_L_volume\n",
        "print(\"Total_telencephalon_volume is \",Total_telencephalon_volume)\n",
        "\n",
        "tbv = kirby906a_ax_df['tbv'][kirby906a_ax_df['roi'] == 'Telencephalon_R'].item()\n",
        "print(\"tbv is \",tbv)\n",
        "icv = kirby906a_ax_df['icv'][kirby906a_ax_df['roi'] == 'Telencephalon_R'].item()\n",
        "print(\"icv is \",icv)\n",
        "icv_fraction = icv/Total_telencephalon_volume\n",
        "print(\"icv_fraction is \",icv_fraction)\n",
        "tbv_fraction = tbv/Total_telencephalon_volume\n",
        "print(\"tbv_fraction is \",tbv_fraction)\n",
        "\n"
      ]
    }
  ]
}