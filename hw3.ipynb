{
  "nbformat": 4,
  "nbformat_minor": 0,
  "metadata": {
    "colab": {
      "provenance": [],
      "authorship_tag": "ABX9TyMkrjBb4kJWWzViJUuHeZl+",
      "include_colab_link": true
    },
    "kernelspec": {
      "name": "python3",
      "display_name": "Python 3"
    },
    "language_info": {
      "name": "python"
    }
  },
  "cells": [
    {
      "cell_type": "markdown",
      "metadata": {
        "id": "view-in-github",
        "colab_type": "text"
      },
      "source": [
        "<a href=\"https://colab.research.google.com/github/rjhanjee/my-first-repo/blob/main/hw3.ipynb\" target=\"_parent\"><img src=\"https://colab.research.google.com/assets/colab-badge.svg\" alt=\"Open In Colab\"/></a>"
      ]
    },
    {
      "cell_type": "code",
      "execution_count": 28,
      "metadata": {
        "colab": {
          "base_uri": "https://localhost:8080/"
        },
        "id": "iCPM3iaPdGm8",
        "outputId": "59779e35-227c-4a4f-85cf-f36b882b8191"
      },
      "outputs": [
        {
          "output_type": "stream",
          "name": "stdout",
          "text": [
            "12540    467063\n",
            "Name: volume, dtype: int64\n"
          ]
        }
      ],
      "source": [
        "import pandas as pd\n",
        "url = \"https://raw.githubusercontent.com/smart-stats/ds4bio_book/main/book/assetts/kirby21AllLevels.csv\"\n",
        "kirb21_df = pd.read_csv(url)\n",
        "\n",
        "\n",
        "kirby906a_ax_df = kirb21_df[kirb21_df['rawid'] == 'kirby906a_ax.img']\n",
        "\n",
        "kirby906a_ax_df = kirby906a_ax_df.drop(['Unnamed: 0', 'rawid', 'min', 'max', 'mean', 'std'], axis = 1)\n",
        "kirby906a_ax_df.head()\n",
        "\n",
        "telencephalon_L_volume = kirby906a_ax_df['volume'][(kirby906a_ax_df['roi'] == 'Telencephalon_L')]\n",
        "print(telencephalon_L_volume)"
      ]
    }
  ]
}