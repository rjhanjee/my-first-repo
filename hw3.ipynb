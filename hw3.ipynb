{
  "nbformat": 4,
  "nbformat_minor": 0,
  "metadata": {
    "colab": {
      "provenance": [],
      "authorship_tag": "ABX9TyNODjRQCfhKFrhBuRKYH/qO",
      "include_colab_link": true
    },
    "kernelspec": {
      "name": "python3",
      "display_name": "Python 3"
    },
    "language_info": {
      "name": "python"
    }
  },
  "cells": [
    {
      "cell_type": "markdown",
      "metadata": {
        "id": "view-in-github",
        "colab_type": "text"
      },
      "source": [
        "<a href=\"https://colab.research.google.com/github/rjhanjee/my-first-repo/blob/main/hw3.ipynb\" target=\"_parent\"><img src=\"https://colab.research.google.com/assets/colab-badge.svg\" alt=\"Open In Colab\"/></a>"
      ]
    },
    {
      "cell_type": "code",
      "execution_count": 49,
      "metadata": {
        "colab": {
          "base_uri": "https://localhost:8080/"
        },
        "id": "iCPM3iaPdGm8",
        "outputId": "63e246fe-f2f2-4fee-f62f-669648cacc75"
      },
      "outputs": [
        {
          "output_type": "stream",
          "name": "stdout",
          "text": [
            "telencephalon_L_volume is  467063\n",
            "telencephalon_R_volume is  470488\n"
          ]
        }
      ],
      "source": [
        "import pandas as pd\n",
        "url = \"https://raw.githubusercontent.com/smart-stats/ds4bio_book/main/book/assetts/kirby21AllLevels.csv\"\n",
        "kirb21_df = pd.read_csv(url)\n",
        "\n",
        "kirby906a_ax_df = kirb21_df[kirb21_df['rawid'] == 'kirby906a_ax.img']\n",
        "\n",
        "telencephalon_L_volume = kirby906a_ax_df['volume'][kirby906a_ax_df['roi'] == 'Telencephalon_L'].item()\n",
        "print(\"telencephalon_L_volume is \",telencephalon_L_volume)\n",
        "\n",
        "telencephalon_R_volume = kirby906a_ax_df['volume'][kirby906a_ax_df['roi'] == 'Telencephalon_R'].item()\n",
        "print(\"telencephalon_R_volume is \",telencephalon_R_volume)\n"
      ]
    }
  ]
}